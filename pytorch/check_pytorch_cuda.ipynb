{
 "cells": [
  {
   "attachments": {},
   "cell_type": "markdown",
   "id": "2e9c25bf-a9d6-4a0d-b5a5-120607e3d2ab",
   "metadata": {},
   "source": [
    "---\n",
    "title: \"Check PyTorch installation\"\n",
    "date: \"04 May, 2023\"\n",
    "date-modified: last-modified\n",
    "jupyter: python3\n",
    "---"
   ]
  },
  {
   "attachments": {},
   "cell_type": "markdown",
   "id": "8cbcd840-7a18-4992-aef9-e0b3d5d7c4d0",
   "metadata": {},
   "source": [
    "Import pytorch and check if cuda is available."
   ]
  },
  {
   "cell_type": "code",
   "execution_count": 1,
   "id": "c26b6db7-6f75-4d95-9779-68fce5d5a2c1",
   "metadata": {},
   "outputs": [
    {
     "data": {
      "text/plain": [
       "True"
      ]
     },
     "execution_count": 1,
     "metadata": {},
     "output_type": "execute_result"
    }
   ],
   "source": [
    "import torch\n",
    "torch.cuda.is_available()"
   ]
  },
  {
   "attachments": {},
   "cell_type": "markdown",
   "id": "3ee368b0",
   "metadata": {},
   "source": [
    "Pytorch will be able to convert to cuda tensor if (a) GPU is available, (b) the installed version of pytorch was compiled for GPU.\n",
    "In my case, the conda installation failed, pip3 installation instruction provided in the [pytorch website](http://pytorch.org/) worked."
   ]
  },
  {
   "cell_type": "code",
   "execution_count": 2,
   "id": "65e4caa0-787e-4ba6-9454-8443a309a088",
   "metadata": {},
   "outputs": [
    {
     "data": {
      "text/plain": [
       "tensor([0., 0., 0., 0., 0., 0., 0., 0., 0., 0.], device='cuda:0')"
      ]
     },
     "execution_count": 2,
     "metadata": {},
     "output_type": "execute_result"
    }
   ],
   "source": [
    "torch.zeros(10).cuda()"
   ]
  },
  {
   "cell_type": "code",
   "execution_count": null,
   "id": "f273dd32-24a2-4444-8629-d03425ea97e2",
   "metadata": {},
   "outputs": [],
   "source": []
  }
 ],
 "metadata": {
  "kernelspec": {
   "display_name": "Python 3 (ipykernel)",
   "language": "python",
   "name": "python3"
  },
  "language_info": {
   "codemirror_mode": {
    "name": "ipython",
    "version": 3
   },
   "file_extension": ".py",
   "mimetype": "text/x-python",
   "name": "python",
   "nbconvert_exporter": "python",
   "pygments_lexer": "ipython3",
   "version": "3.11.3"
  }
 },
 "nbformat": 4,
 "nbformat_minor": 5
}
